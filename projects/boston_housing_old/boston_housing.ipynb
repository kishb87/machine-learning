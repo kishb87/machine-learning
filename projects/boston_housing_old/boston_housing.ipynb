{
 "cells": [
  {
   "cell_type": "markdown",
   "metadata": {},
   "source": [
    "# Machine Learning Engineer Nanodegree\n",
    "## Model Evaluation & Validation\n",
    "## Project 1: Predicting Boston Housing Prices\n",
    "\n",
    "Welcome to the first project of the Machine Learning Engineer Nanodegree! In this notebook, some template code has already been written. You will need to implement additional functionality to successfully answer all of the questions for this project. Unless it is requested, do not modify any of the code that has already been included. In this template code, there are four sections which you must complete to successfully produce a prediction with your model. Each section where you will write code is preceded by a **STEP X** header with comments describing what must be done. Please read the instructions carefully!\n",
    "\n",
    "In addition to implementing code, there will be questions that you must answer that relate to the project and your implementation. Each section where you will answer a question is preceded by a **QUESTION X** header. Be sure that you have carefully read each question and provide thorough answers in the text boxes that begin with \"**Answer:**\". Your project submission will be evaluated based on your answers to each of the questions.  \n",
    "\n",
    "A description of the dataset can be found [here](https://archive.ics.uci.edu/ml/datasets/Housing), which is provided by the **UCI Machine Learning Repository**."
   ]
  },
  {
   "cell_type": "markdown",
   "metadata": {},
   "source": [
    "# Getting Started\n",
    "To familiarize yourself with an iPython Notebook, **try double clicking on this cell**. You will notice that the text changes so that all the formatting is removed. This allows you to make edits to the block of text you see here. This block of text (and mostly anything that's not code) is written using [Markdown](http://daringfireball.net/projects/markdown/syntax), which is a way to format text using headers, links, italics, and many other options! Whether you're editing a Markdown text block or a code block (like the one below), you can use the keyboard shortcut **Shift + Enter** or **Shift + Return** to execute the code or text block. In this case, it will show the formatted text.\n",
    "\n",
    "Let's start by setting up some code we will need to get the rest of the project up and running. Use the keyboard shortcut mentioned above on the following code block to execute it. Alternatively, depending on your iPython Notebook program, you can press the **Play** button in the hotbar. You'll know the code block executes successfully if the message *\"Boston Housing dataset loaded successfully!\"* is printed."
   ]
  },
  {
   "cell_type": "code",
   "execution_count": 8,
   "metadata": {
    "collapsed": false
   },
   "outputs": [
    {
     "name": "stdout",
     "output_type": "stream",
     "text": [
      "Boston Housing dataset loaded successfully!\n"
     ]
    }
   ],
   "source": [
    "# Importing a few necessary libraries\n",
    "import numpy as np\n",
    "import matplotlib.pyplot as pl\n",
    "from sklearn import datasets\n",
    "from sklearn.tree import DecisionTreeRegressor\n",
    "\n",
    "# Make matplotlib show our plots inline (nicely formatted in the notebook)\n",
    "%matplotlib inline\n",
    "\n",
    "# Create our client's feature set for which we will be predicting a selling price\n",
    "CLIENT_FEATURES = [[11.95, 0.00, 18.100, 0, 0.6590, 5.6090, 90.00, 1.385, 24, 680.0, 20.20, 332.09, 12.13]]\n",
    "\n",
    "# Load the Boston Housing dataset into the city_data variable\n",
    "city_data = datasets.load_boston()\n",
    "\n",
    "# Initialize the housing prices and housing features\n",
    "housing_prices = city_data.target\n",
    "housing_features = city_data.data\n",
    "\n",
    "\n",
    "print \"Boston Housing dataset loaded successfully!\""
   ]
  },
  {
   "cell_type": "markdown",
   "metadata": {},
   "source": [
    "# Statistical Analysis and Data Exploration\n",
    "In this first section of the project, you will quickly investigate a few basic statistics about the dataset you are working with. In addition, you'll look at the client's feature set in `CLIENT_FEATURES` and see how this particular sample relates to the features of the dataset. Familiarizing yourself with the data through an explorative process is a fundamental practice to help you better understand your results."
   ]
  },
  {
   "cell_type": "markdown",
   "metadata": {},
   "source": [
    "## Step 1\n",
    "In the code block below, use the imported `numpy` library to calculate the requested statistics. You will need to replace each `None` you find with the appropriate `numpy` coding for the proper statistic to be printed. Be sure to execute the code block each time to test if your implementation is working successfully. The print statements will show the statistics you calculate!"
   ]
  },
  {
   "cell_type": "code",
   "execution_count": 9,
   "metadata": {
    "collapsed": false
   },
   "outputs": [
    {
     "name": "stdout",
     "output_type": "stream",
     "text": [
      "Boston Housing dataset statistics (in $1000's):\n",
      "\n",
      "Total number of houses: 506\n",
      "Total number of features: 13\n",
      "Minimum house price: 5.0\n",
      "Maximum house price: 50.0\n",
      "Mean house price: 22.533\n",
      "Median house price: 21.2\n",
      "Standard deviation of house price: 9.188\n"
     ]
    }
   ],
   "source": [
    "# Number of houses in the dataset\n",
    "total_houses = housing_prices.shape[0]\n",
    "\n",
    "# Number of features in the dataset\n",
    "total_features = housing_features.shape[1]\n",
    "\n",
    "# Minimum housing value in the dataset\n",
    "minimum_price = housing_prices.min()\n",
    "\n",
    "# Maximum housing value in the dataset\n",
    "maximum_price = housing_prices.max()\n",
    "\n",
    "# Mean house value of the dataset\n",
    "mean_price = housing_prices.mean()\n",
    "\n",
    "# Median house value of the dataset\n",
    "median_price = np.median(housing_prices)\n",
    "\n",
    "# Standard deviation of housing values of the dataset\n",
    "std_dev = np.std(housing_prices)\n",
    "\n",
    "# Show the calculated statistics\n",
    "print \"Boston Housing dataset statistics (in $1000's):\\n\"\n",
    "print \"Total number of houses:\", total_houses\n",
    "print \"Total number of features:\", total_features\n",
    "print \"Minimum house price:\", minimum_price\n",
    "print \"Maximum house price:\", maximum_price\n",
    "print \"Mean house price: {0:.3f}\".format(mean_price)\n",
    "print \"Median house price:\", median_price\n",
    "print \"Standard deviation of house price: {0:.3f}\".format(std_dev)"
   ]
  },
  {
   "cell_type": "markdown",
   "metadata": {},
   "source": [
    "## Question 1\n",
    "As a reminder, you can view a description of the Boston Housing dataset [here](https://archive.ics.uci.edu/ml/datasets/Housing), where you can find the different features under **Attribute Information**. The `MEDV` attribute relates to the values stored in our `housing_prices` variable, so we do not consider that a feature of the data.\n",
    "\n",
    "*Of the features available for each data point, choose three that you feel are significant and give a brief description for each of what they measure.*\n",
    "\n",
    "Remember, you can **double click the text box below** to add your answer!"
   ]
  },
  {
   "cell_type": "markdown",
   "metadata": {},
   "source": [
    "**Answer: **\n",
    "\n",
    "1. RM - This variable is important because as the number of rooms increase in a house the property value of the house also increases.\n",
    "2. DIS - This value is important because people generally prefer to have short commutes to work so the shorter the distance is to an employment center the higher the property value.\n",
    "3. CRIM - Generally people prefer to live in safer neighborhoods so the higher the crime rate the lower the property value."
   ]
  },
  {
   "cell_type": "markdown",
   "metadata": {},
   "source": [
    "## Question 2\n",
    "*Using your client's feature set `CLIENT_FEATURES`, which values correspond with the features you've chosen above?*  \n",
    "**Hint: ** Run the code block below to see the client's data."
   ]
  },
  {
   "cell_type": "code",
   "execution_count": 10,
   "metadata": {
    "collapsed": false
   },
   "outputs": [
    {
     "name": "stdout",
     "output_type": "stream",
     "text": [
      "[[11.95, 0.0, 18.1, 0, 0.659, 5.609, 90.0, 1.385, 24, 680.0, 20.2, 332.09, 12.13]]\n",
      "5.609\n",
      "1.385\n",
      "11.95\n"
     ]
    }
   ],
   "source": [
    "print CLIENT_FEATURES\n",
    "\n",
    "print CLIENT_FEATURES[0][5]\n",
    "print CLIENT_FEATURES[0][7]\n",
    "print CLIENT_FEATURES[0][0]"
   ]
  },
  {
   "cell_type": "markdown",
   "metadata": {},
   "source": [
    "**Answer: **\n",
    "\n",
    "1. RM - CLIENT_FEATURES[0][5]\n",
    "2. DIS - CLIENT_FEATURES[0][7]\n",
    "3. CRIM - CLIENT_FEATURES[0][0]"
   ]
  },
  {
   "cell_type": "markdown",
   "metadata": {},
   "source": [
    "# Evaluating Model Performance\n",
    "In this second section of the project, you will begin to develop the tools necessary for a model to make a prediction. Being able to accurately evaluate each model's performance through the use of these tools helps to greatly reinforce the confidence in your predictions."
   ]
  },
  {
   "cell_type": "markdown",
   "metadata": {},
   "source": [
    "## Step 2\n",
    "In the code block below, you will need to implement code so that the `shuffle_split_data` function does the following:\n",
    "- Randomly shuffle the input data `X` and target labels (housing values) `y`.\n",
    "t- Split the data into training and testing subsets, holding 30% of the data for testing.\n",
    "\n",
    "If you use any functions not already acessible from the imported libraries above, remember to include your import statement below as well!   \n",
    "Ensure that you have executed the code block once you are done. You'll know the `shuffle_split_data` function is working if the statement *\"Successfully shuffled and split the data!\"* is printed."
   ]
  },
  {
   "cell_type": "code",
   "execution_count": 11,
   "metadata": {
    "collapsed": false
   },
   "outputs": [
    {
     "name": "stdout",
     "output_type": "stream",
     "text": [
      "Successfully shuffled and split the data!\n"
     ]
    }
   ],
   "source": [
    "# Put any import statements you need for this code block here\n",
    "import numpy as np\n",
    "from sklearn import cross_validation\n",
    "from sklearn import datasets\n",
    "from sklearn import svm\n",
    "\n",
    "def shuffle_split_data(X, y):\n",
    "    \"\"\" Shuffles and splits data into 70% training and 30% testing subsets,\n",
    "        then returns the training and testing subsets. \"\"\"\n",
    "\n",
    "    # Shuffle and split the data\n",
    "    X_train, X_test, y_train, y_test = cross_validation.train_test_split(X, y, test_size=0.3, random_state=0)\n",
    "\n",
    "\n",
    "    # Return the training and testing data subsets\n",
    "    return X_train, y_train, X_test, y_test\n",
    "\n",
    "\n",
    "# Test shuffle_split_data\n",
    "try:\n",
    "    X_train, y_train, X_test, y_test = shuffle_split_data(housing_features, housing_prices)\n",
    "    print \"Successfully shuffled and split the data!\"\n",
    "except:\n",
    "    print \"Something went wrong with shuffling and splitting the data.\""
   ]
  },
  {
   "cell_type": "markdown",
   "metadata": {},
   "source": [
    "## Question 3\n",
    "*Why do we split the data into training and testing subsets for our model?*"
   ]
  },
  {
   "cell_type": "markdown",
   "metadata": {},
   "source": [
    "**Answer: We split the data into training and testing in order to allow first the ML algorithms to training on a particular dataset then to test those results using the test set. This allows us to produce more accurate results than if we were to just train the algorithms on the entire dataset and not test it with anything. With this approach, we ensure that we have validated the results before applying the algorithms to new data.**"
   ]
  },
  {
   "cell_type": "markdown",
   "metadata": {},
   "source": [
    "## Step 3\n",
    "In the code block below, you will need to implement code so that the `performance_metric` function does the following:\n",
    "- Perform a total error calculation between the true values of the `y` labels `y_true` and the predicted values of the `y` labels `y_predict`.\n",
    "\n",
    "You will need to first choose an appropriate performance metric for this problem. See [the sklearn metrics documentation](http://scikit-learn.org/stable/modules/classes.html#sklearn-metrics-metrics) to view a list of available metric functions. **Hint: ** Look at the question below to see a list of the metrics that were covered in the supporting course for this project.\n",
    "\n",
    "Once you have determined which metric you will use, remember to include the necessary import statement as well!  \n",
    "Ensure that you have executed the code block once you are done. You'll know the `performance_metric` function is working if the statement *\"Successfully performed a metric calculation!\"* is printed."
   ]
  },
  {
   "cell_type": "code",
   "execution_count": 13,
   "metadata": {
    "collapsed": false
   },
   "outputs": [
    {
     "name": "stdout",
     "output_type": "stream",
     "text": [
      "0.0\n",
      "Successfully performed a metric calculation!\n"
     ]
    }
   ],
   "source": [
    "# Put any import statements you need for this code block here\n",
    "from sklearn.metrics import mean_squared_error\n",
    "\n",
    "def performance_metric(y_true, y_predict):\n",
    "    \"\"\" Calculates and returns the total error between true and predicted values\n",
    "        based on a performance metric chosen by the student. \"\"\"\n",
    "\n",
    "    error = mean_squared_error(y_true, y_predict)\n",
    "    print error\n",
    "    return error\n",
    "\n",
    "\n",
    "\n",
    "# Test performance_metric\n",
    "try:\n",
    "    total_error = performance_metric(y_train, y_train)\n",
    "    print \"Successfully performed a metric calculation!\"\n",
    "except:\n",
    "    print \"Something went wrong with performing a metric calculation.\"\n"
   ]
  },
  {
   "cell_type": "markdown",
   "metadata": {},
   "source": [
    "## Question 4\n",
    "*Which performance metric below did you find was most appropriate for predicting housing prices and analyzing the total error. Why?*\n",
    "- *Accuracy*\n",
    "- *Precision*\n",
    "- *Recall*\n",
    "- *F1 Score*\n",
    "- *Mean Squared Error (MSE)*\n",
    "- *Mean Absolute Error (MAE)*"
   ]
  },
  {
   "cell_type": "markdown",
   "metadata": {},
   "source": [
    "**Answer: I used the mean squared error. Accuracy, Pressision, Recall and F1 Scores primarily concern classification models so they are not suited for this model considering it is a regression model. I chose MSE over MAE because by squaring the residual error, it emphasizes larger errors over smaller ones highlighting the errors in the model much better than MAE. **"
   ]
  },
  {
   "cell_type": "markdown",
   "metadata": {},
   "source": [
    "## Step 4 (Final Step)\n",
    "In the code block below, you will need to implement code so that the `fit_model` function does the following:\n",
    "- Create a scoring function using the same performance metric as in **Step 3**. See the [sklearn `make_scorer` documentation](http://scikit-learn.org/stable/modules/generated/sklearn.metrics.make_scorer.html).\n",
    "- Build a GridSearchCV object using `regressor`, `parameters`, and `scoring_function`. See the [sklearn documentation on GridSearchCV](http://scikit-learn.org/stable/modules/generated/sklearn.grid_search.GridSearchCV.html).\n",
    "\n",
    "When building the scoring function and GridSearchCV object, *be sure that you read the parameters documentation thoroughly.* It is not always the case that a default parameter for a function is the appropriate setting for the problem you are working on.\n",
    "\n",
    "Since you are using `sklearn` functions, remember to include the necessary import statements below as well!  \n",
    "Ensure that you have executed the code block once you are done. You'll know the `fit_model` function is working if the statement *\"Successfully fit a model to the data!\"* is printed."
   ]
  },
  {
   "cell_type": "code",
   "execution_count": 16,
   "metadata": {
    "collapsed": false
   },
   "outputs": [
    {
     "name": "stdout",
     "output_type": "stream",
     "text": [
      "Successfully fit a model!\n"
     ]
    }
   ],
   "source": [
    "# Put any import statements you need for this code block\n",
    "from sklearn.metrics import make_scorer\n",
    "from sklearn.tree import DecisionTreeRegressor\n",
    "from sklearn.grid_search import GridSearchCV\n",
    "\n",
    "def fit_model(X, y):\n",
    "    \"\"\" Tunes a decision tree regressor model using GridSearchCV on the input data X \n",
    "        and target labels y and returns this optimal model. \"\"\"\n",
    "\n",
    "    # Create a decision tree regressor object\n",
    "    regressor = DecisionTreeRegressor(random_state=0)\n",
    "\n",
    "    # Set up the parameters we wish to tune\n",
    "    parameters = {'max_depth':(1,2,3,4,5,6,7,8,9,10)}\n",
    "\n",
    "    # Make an appropriate scoring function\n",
    "    scoring_function = make_scorer(mean_squared_error, greater_is_better = False)\n",
    "\n",
    "    # Make the GridSearchCV object\n",
    "    reg = GridSearchCV(regressor, parameters, scoring_function)\n",
    "\n",
    "    # Fit the learner to the data to obtain the optimal model with tuned parameters\n",
    "    reg.fit(X, y)\n",
    "\n",
    "    # Return the optimal model\n",
    "    return reg.best_estimator_\n",
    "\n",
    "\n",
    "# Test fit_model on entire dataset\n",
    "try:\n",
    "    reg = fit_model(housing_features, housing_prices)\n",
    "    print \"Successfully fit a model!\"\n",
    "except:\n",
    "    print \"Something went wrong with fitting a model.\""
   ]
  },
  {
   "cell_type": "markdown",
   "metadata": {},
   "source": [
    "## Question 5\n",
    "*What is the grid search algorithm and when is it applicable?*"
   ]
  },
  {
   "cell_type": "markdown",
   "metadata": {},
   "source": [
    "**Answer: Machine learning models typically have parameters that effect the model's prediction performance. Instead of manually tuning these parameters, the grid search algorithm can work through combinations of parameter tunes and cross validate with each combination in order to come up with the most optimal parameter tune. This saves a lot of manual labor involved with doing it yourself but it does involve more computational processing.**"
   ]
  },
  {
   "cell_type": "markdown",
   "metadata": {},
   "source": [
    "## Question 6\n",
    "*What is cross-validation, and how is it performed on a model? Why would cross-validation be helpful when using grid search?*"
   ]
  },
  {
   "cell_type": "markdown",
   "metadata": {},
   "source": [
    "**Answer: The problem with splitting a data set into testing and training is that you lose a portion to your dataset to testing and in particular small datasets this leads to inaccurate models. A better approach may be to use cross validation. In cross validation a portion of the data set is used for training and another porstion is used for testing, but through multiple samplings the training and testing portions shift. An average of all the samplings is taken which leads to more accurate models. For instance in K-fold validation, the data is divided into K integers with one of those intervals used as test data and the remaining as training. This is done K times and each time the training data shifts intervals. This results in more accurate results from the model than just splitting the data once. Cross validation can evaluate performance in grid search. **"
   ]
  },
  {
   "cell_type": "markdown",
   "metadata": {},
   "source": [
    "# Checkpoint!\n",
    "You have now successfully completed your last code implementation section. Pat yourself on the back! All of your functions written above will be executed in the remaining sections below, and questions will be asked about various results for you to analyze. To prepare the **Analysis** and **Prediction** sections, you will need to intialize the two functions below. Remember, there's no need to implement any more code, so sit back and execute the code blocks! Some code comments are provided if you find yourself interested in the functionality."
   ]
  },
  {
   "cell_type": "code",
   "execution_count": 17,
   "metadata": {
    "collapsed": true
   },
   "outputs": [],
   "source": [
    "def learning_curves(X_train, y_train, X_test, y_test):\n",
    "    \"\"\" Calculates the performance of several models with varying sizes of training data.\n",
    "        The learning and testing error rates for each model are then plotted. \"\"\"\n",
    "    \n",
    "    print \"Creating learning curve graphs for max_depths of 1, 3, 6, and 10. . .\"\n",
    "    \n",
    "    # Create the figure window\n",
    "    fig = pl.figure(figsize=(10,8))\n",
    "\n",
    "    # We will vary the training set size so that we have 50 different sizes\n",
    "    sizes = np.rint(np.linspace(1, len(X_train), 50)).astype(int)\n",
    "    train_err = np.zeros(len(sizes))\n",
    "    test_err = np.zeros(len(sizes))\n",
    "\n",
    "    # Create four different models based on max_depth\n",
    "    for k, depth in enumerate([1,3,6,10]):\n",
    "        \n",
    "        for i, s in enumerate(sizes):\n",
    "            \n",
    "            # Setup a decision tree regressor so that it learns a tree with max_depth = depth\n",
    "            regressor = DecisionTreeRegressor(max_depth = depth)\n",
    "            \n",
    "            # Fit the learner to the training data\n",
    "            regressor.fit(X_train[:s], y_train[:s])\n",
    "\n",
    "            # Find the performance on the training set\n",
    "            train_err[i] = performance_metric(y_train[:s], regressor.predict(X_train[:s]))\n",
    "            \n",
    "            # Find the performance on the testing set\n",
    "            test_err[i] = performance_metric(y_test, regressor.predict(X_test))\n",
    "\n",
    "        # Subplot the learning curve graph\n",
    "        ax = fig.add_subplot(2, 2, k+1)\n",
    "        ax.plot(sizes, test_err, lw = 2, label = 'Testing Error')\n",
    "        ax.plot(sizes, train_err, lw = 2, label = 'Training Error')\n",
    "        ax.legend()\n",
    "        ax.set_title('max_depth = %s'%(depth))\n",
    "        ax.set_xlabel('Number of Data Points in Training Set')\n",
    "        ax.set_ylabel('Total Error')\n",
    "        ax.set_xlim([0, len(X_train)])\n",
    "    \n",
    "    # Visual aesthetics\n",
    "    fig.suptitle('Decision Tree Regressor Learning Performances', fontsize=18, y=1.03)\n",
    "    fig.tight_layout()\n",
    "    fig.show()"
   ]
  },
  {
   "cell_type": "code",
   "execution_count": 18,
   "metadata": {
    "collapsed": true
   },
   "outputs": [],
   "source": [
    "def model_complexity(X_train, y_train, X_test, y_test):\n",
    "    \"\"\" Calculates the performance of the model as model complexity increases.\n",
    "        The learning and testing errors rates are then plotted. \"\"\"\n",
    "    \n",
    "    print \"Creating a model complexity graph. . . \"\n",
    "\n",
    "    # We will vary the max_depth of a decision tree model from 1 to 14\n",
    "    max_depth = np.arange(1, 14)\n",
    "    train_err = np.zeros(len(max_depth))\n",
    "    test_err = np.zeros(len(max_depth))\n",
    "\n",
    "    for i, d in enumerate(max_depth):\n",
    "        # Setup a Decision Tree Regressor so that it learns a tree with depth d\n",
    "        regressor = DecisionTreeRegressor(max_depth = d)\n",
    "\n",
    "        # Fit the learner to the training data\n",
    "        regressor.fit(X_train, y_train)\n",
    "\n",
    "        # Find the performance on the training set\n",
    "        train_err[i] = performance_metric(y_train, regressor.predict(X_train))\n",
    "\n",
    "        # Find the performance on the testing set\n",
    "        test_err[i] = performance_metric(y_test, regressor.predict(X_test))\n",
    "\n",
    "    # Plot the model complexity graph\n",
    "    pl.figure(figsize=(7, 5))\n",
    "    pl.title('Decision Tree Regressor Complexity Performance')\n",
    "    pl.plot(max_depth, test_err, lw=2, label = 'Testing Error')\n",
    "    pl.plot(max_depth, train_err, lw=2, label = 'Training Error')\n",
    "    pl.legend()\n",
    "    pl.xlabel('Maximum Depth')\n",
    "    pl.ylabel('Total Error')\n",
    "    pl.show()"
   ]
  },
  {
   "cell_type": "markdown",
   "metadata": {},
   "source": [
    "# Analyzing Model Performance\n",
    "In this third section of the project, you'll take a look at several models' learning and testing error rates on various subsets of training data. Additionally, you'll investigate one particular algorithm with an increasing `max_depth` parameter on the full training set to observe how model complexity affects learning and testing errors. Graphing your model's performance based on varying criteria can be beneficial in the analysis process, such as visualizing behavior that may not have been apparent from the results alone."
   ]
  },
  {
   "cell_type": "code",
   "execution_count": 19,
   "metadata": {
    "collapsed": false
   },
   "outputs": [
    {
     "name": "stdout",
     "output_type": "stream",
     "text": [
      "Creating learning curve graphs for max_depths of 1, 3, 6, and 10. . .\n",
      "0.0\n",
      "141.596907895\n",
      "2.82483333333\n",
      "96.2802122807\n",
      "14.9968888889\n",
      "58.9663961988\n",
      "17.344187291\n",
      "58.9723506229\n",
      "18.6570505952\n",
      "56.0895596186\n",
      "29.4001402027\n",
      "48.3164332314\n",
      "30.3992897727\n",
      "48.7924722451\n",
      "29.6228197035\n",
      "48.1840818294\n",
      "28.3863755136\n",
      "47.9928423503\n",
      "30.0583856749\n",
      "47.9673974119\n",
      "28.1261035631\n",
      "48.1560535474\n",
      "27.1294601716\n",
      "48.2227185884\n",
      "26.1006964033\n",
      "48.1462586472\n",
      "29.3233471852\n",
      "48.2892324667\n",
      "29.2677139745\n",
      "47.7635647982\n",
      "29.1728491393\n",
      "48.1071066\n",
      "29.0785387931\n",
      "48.0242442434\n",
      "29.6228515668\n",
      "48.0271056759\n",
      "28.7848174472\n",
      "48.0650448792\n",
      "30.4410371771\n",
      "52.3063249229\n",
      "31.6549073573\n",
      "52.3731012323\n",
      "32.4818150021\n",
      "52.3614645453\n",
      "34.0633519154\n",
      "52.7195436996\n",
      "33.9285905066\n",
      "52.4989361937\n",
      "33.0948731641\n",
      "52.4299568146\n",
      "33.2707189516\n",
      "52.46329767\n",
      "33.3459370312\n",
      "52.4151439739\n",
      "36.1316929902\n",
      "52.2804233564\n",
      "37.0300619306\n",
      "52.2649306715\n",
      "38.0517128425\n",
      "52.3559563742\n",
      "37.9646660552\n",
      "62.545840603\n",
      "37.4263543178\n",
      "62.5394248111\n",
      "41.0552597464\n",
      "50.8743064869\n",
      "41.6590726377\n",
      "54.8167555483\n",
      "41.5267086552\n",
      "62.5354328062\n",
      "40.9535529055\n",
      "62.611014749\n",
      "42.6807432735\n",
      "50.9935109804\n",
      "43.3643730917\n",
      "51.0478611002\n",
      "44.2894509518\n",
      "52.2656005688\n",
      "44.7336553938\n",
      "52.268490199\n",
      "44.4685492593\n",
      "52.2645094288\n",
      "44.9516432375\n",
      "52.2772987182\n",
      "45.1756551542\n",
      "52.3360726045\n",
      "45.2381794953\n",
      "52.3560839192\n",
      "45.7216570168\n",
      "54.7043103109\n",
      "45.7111090396\n",
      "48.1764385959\n",
      "45.4922219199\n",
      "48.177394641\n",
      "45.4560262702\n",
      "51.1033072299\n",
      "44.9208486367\n",
      "51.0582649134\n",
      "44.9726872904\n",
      "52.265274531\n",
      "0.0\n",
      "141.596907895\n",
      "0.04\n",
      "90.8561184211\n",
      "1.34922222222\n",
      "47.7389875731\n",
      "2.08610766046\n",
      "45.4361819355\n",
      "2.68514285714\n",
      "36.6267236544\n",
      "3.29850600601\n",
      "33.2908082054\n",
      "3.36183838384\n",
      "25.9345161144\n",
      "3.33366666667\n",
      "25.967144481\n",
      "3.65113950456\n",
      "26.62433942\n",
      "3.86513793396\n",
      "25.6791513721\n",
      "4.31163549318\n",
      "25.5892873194\n",
      "4.34303422619\n",
      "24.8607251294\n",
      "4.80010827487\n",
      "24.0671415334\n",
      "6.53061342985\n",
      "40.5950465671\n",
      "6.28470545141\n",
      "24.1029821189\n",
      "6.10893933955\n",
      "25.4057502156\n",
      "6.00627148914\n",
      "26.6554038723\n",
      "6.60468662427\n",
      "25.3385060003\n",
      "6.98992113739\n",
      "26.8054461315\n",
      "7.33316302162\n",
      "25.7186486738\n",
      "7.47691644152\n",
      "25.6461529765\n",
      "8.02285564061\n",
      "25.6456682029\n",
      "8.17854059148\n",
      "29.0843487881\n",
      "8.14856568048\n",
      "25.4582969753\n",
      "7.87102426564\n",
      "25.4146646337\n",
      "8.07885543435\n",
      "31.239640288\n",
      "8.44307519894\n",
      "26.0670765917\n",
      "9.03091672862\n",
      "26.7964912627\n",
      "9.37176653137\n",
      "23.2781840982\n",
      "8.7466589043\n",
      "24.3470733448\n",
      "9.97593416181\n",
      "25.6560687712\n",
      "9.76273496196\n",
      "25.66050756\n",
      "11.3669927376\n",
      "24.1746088264\n",
      "12.0078179538\n",
      "27.6885463524\n",
      "11.9634975651\n",
      "29.2200301761\n",
      "11.9740865379\n",
      "27.8042132019\n",
      "13.9826978095\n",
      "17.6383977483\n",
      "14.0597048794\n",
      "28.7597821308\n",
      "11.0996863899\n",
      "25.476915563\n",
      "10.9946641636\n",
      "25.4538245791\n",
      "11.1191787093\n",
      "27.0079535043\n",
      "12.4461490503\n",
      "27.0712077802\n",
      "12.7612489392\n",
      "28.0374141126\n",
      "12.6954144603\n",
      "27.0912827701\n",
      "14.8060820483\n",
      "29.9850403506\n",
      "13.2118755828\n",
      "27.0365966548\n",
      "13.3131352477\n",
      "28.1019095807\n",
      "14.7111755174\n",
      "17.1861294103\n",
      "14.8642029292\n",
      "24.6659851473\n",
      "12.690436934\n",
      "28.1091616034\n",
      "0.0\n",
      "141.596907895\n",
      "0.0\n",
      "88.7982236842\n",
      "0.0\n",
      "51.5882236842\n",
      "0.00760869565217\n",
      "45.4226973684\n",
      "0.0217777777778\n",
      "36.8626315789\n",
      "0.172306306306\n",
      "37.6697707602\n",
      "0.139529220779\n",
      "25.6949602056\n",
      "0.204154995331\n",
      "26.6911538519\n",
      "0.31200968523\n",
      "26.1198228831\n",
      "0.310827922078\n",
      "28.1009081599\n",
      "0.493583852221\n",
      "25.4748330986\n",
      "0.663683035714\n",
      "24.6723735678\n",
      "0.68185892173\n",
      "23.2664581608\n",
      "0.782855032318\n",
      "35.4960877752\n",
      "0.926451582387\n",
      "24.8848841004\n",
      "0.968301315911\n",
      "29.0372398974\n",
      "1.03804993905\n",
      "29.2976029203\n",
      "1.23046680217\n",
      "30.1672420082\n",
      "1.04450268967\n",
      "28.4510496855\n",
      "1.27783821915\n",
      "28.8802382535\n",
      "1.3974255262\n",
      "27.49899661\n",
      "1.51322203947\n",
      "27.6545357326\n",
      "1.59666784099\n",
      "30.7990641881\n",
      "1.66391145905\n",
      "24.4644211313\n",
      "1.65704461128\n",
      "26.8897004435\n",
      "1.74587376282\n",
      "27.9657093183\n",
      "1.9546872889\n",
      "27.701284936\n",
      "2.17377372492\n",
      "26.8537117354\n",
      "2.39661223165\n",
      "22.9943410718\n",
      "2.12794818594\n",
      "22.671178457\n",
      "2.19401350344\n",
      "23.4033261086\n",
      "2.25619552772\n",
      "21.9825747209\n",
      "2.34297389326\n",
      "23.0365622096\n",
      "2.971615117\n",
      "24.5180504225\n",
      "3.10206020665\n",
      "34.1157760215\n",
      "3.400874179\n",
      "34.9297721396\n",
      "2.99127069638\n",
      "12.8256196861\n",
      "3.16395316662\n",
      "12.2291071356\n",
      "3.21158563066\n",
      "27.5784856423\n",
      "3.11566451257\n",
      "23.8872086977\n",
      "3.19398739046\n",
      "25.9414194257\n",
      "3.43212968277\n",
      "24.8770155164\n",
      "3.51752972148\n",
      "25.7385839428\n",
      "3.50707788765\n",
      "25.346637619\n",
      "3.19100593507\n",
      "23.1859577839\n",
      "3.79276858724\n",
      "25.7774640331\n",
      "3.82185740098\n",
      "26.1989304287\n",
      "3.34192330272\n",
      "16.842975478\n",
      "3.78448157427\n",
      "14.035821948\n",
      "4.07990155031\n",
      "25.6190484392\n",
      "0.0\n",
      "141.596907895\n",
      "0.0\n",
      "87.8009868421\n",
      "0.0\n",
      "60.9745394737\n",
      "0.0\n",
      "46.0263815789\n",
      "0.0\n",
      "41.0005921053\n",
      "0.0\n",
      "28.9258552632\n",
      "0.000113636363636\n",
      "32.5623190789\n",
      "0.0\n",
      "23.1821710526\n",
      "0.0\n",
      "25.0751973684\n",
      "0.0\n",
      "27.5122368421\n",
      "0.00027397260274\n",
      "26.0717105263\n",
      "0.0055\n",
      "24.5048684211\n",
      "0.00298850574713\n",
      "22.5171710526\n",
      "0.0152105263158\n",
      "35.1025164474\n",
      "0.0142156862745\n",
      "27.0603289474\n",
      "0.019252948886\n",
      "27.0428789608\n",
      "0.00215517241379\n",
      "26.5226973684\n",
      "0.0315214866434\n",
      "33.9327594283\n",
      "0.0136997455471\n",
      "25.2366640351\n",
      "0.00393719806763\n",
      "27.3450895468\n",
      "0.00441379310345\n",
      "27.2570924708\n",
      "0.0267302631579\n",
      "28.945347076\n",
      "0.0418270440252\n",
      "26.1066587537\n",
      "0.0550866837753\n",
      "29.8476635085\n",
      "0.0687681992337\n",
      "31.323135307\n",
      "0.0507943962115\n",
      "28.1249267328\n",
      "0.0216117021277\n",
      "30.4862673977\n",
      "0.0584523809524\n",
      "30.2769348501\n",
      "0.0495221674877\n",
      "25.3654712719\n",
      "0.0525724867725\n",
      "26.0126753817\n",
      "0.0896198156682\n",
      "22.0928626096\n",
      "0.163300324675\n",
      "22.633030458\n",
      "0.218112631184\n",
      "23.238540152\n",
      "0.250771161893\n",
      "25.6975352478\n",
      "0.366452800361\n",
      "38.4594636432\n",
      "0.391148820218\n",
      "34.5780387548\n",
      "0.270479405888\n",
      "15.1497113039\n",
      "0.318346686895\n",
      "15.4210548627\n",
      "0.347396114505\n",
      "24.106858971\n",
      "0.349274317645\n",
      "25.8969273662\n",
      "0.331628373702\n",
      "23.6945635651\n",
      "0.364476270914\n",
      "26.4944908786\n",
      "0.453548010652\n",
      "27.2942938265\n",
      "0.445312225564\n",
      "24.025330929\n",
      "0.377758586718\n",
      "24.8200083567\n",
      "0.609025811966\n",
      "27.7423649072\n",
      "0.557571619813\n",
      "25.4433399773\n",
      "0.293397961842\n",
      "13.9265679892\n",
      "0.469976546472\n",
      "24.2485050168\n",
      "0.417463911716\n",
      "29.1754567628\n"
     ]
    },
    {
     "name": "stderr",
     "output_type": "stream",
     "text": [
      "/Users/kishb87/anaconda/lib/python2.7/site-packages/matplotlib/figure.py:397: UserWarning: matplotlib is currently using a non-GUI backend, so cannot show the figure\n",
      "  \"matplotlib is currently using a non-GUI backend, \"\n"
     ]
    },
    {
     "data": {
      "image/png": "[encoded data removed]",
      "text/plain": [
       "<matplotlib.figure.Figure at 0x10e3d68d0>"
      ]
     },
     "metadata": {},
     "output_type": "display_data"
    }
   ],
   "source": [
    "learning_curves(X_train, y_train, X_test, y_test)"
   ]
  },
  {
   "cell_type": "markdown",
   "metadata": {},
   "source": [
    "## Question 7\n",
    "*Choose one of the learning curve graphs that are created above. What is the max depth for the chosen model? As the size of the training set increases, what happens to the training error? What happens to the testing error?*"
   ]
  },
  {
   "cell_type": "markdown",
   "metadata": {},
   "source": [
    "**Answer: Max depth of 1. The training error gradually increases as the training set increases. The testing error is mostly flat as the training set increases with bumps in errors between 200-230 and 230-260.**"
   ]
  },
  {
   "cell_type": "markdown",
   "metadata": {},
   "source": [
    "## Question 8\n",
    "*Look at the learning curve graphs for the model with a max depth of 1 and a max depth of 10. When the model is using the full training set, does it suffer from high bias or high variance when the max depth is 1? What about when the max depth is 10?*"
   ]
  },
  {
   "cell_type": "markdown",
   "metadata": {},
   "source": [
    "**Answer: **"
   ]
  },
  {
   "cell_type": "code",
   "execution_count": 20,
   "metadata": {
    "collapsed": false
   },
   "outputs": [
    {
     "name": "stdout",
     "output_type": "stream",
     "text": [
      "Creating a model complexity graph. . . \n",
      "44.9726872904\n",
      "52.265274531\n",
      "23.697567073\n",
      "31.4246885545\n",
      "12.690436934\n",
      "28.1091616034\n",
      "8.53315122323\n",
      "25.2075663706\n",
      "6.08283428208\n",
      "26.5728533011\n",
      "4.07990155031\n",
      "24.4488510708\n",
      "2.62738745508\n",
      "25.056722123\n",
      "1.38433800626\n",
      "28.7459109518\n",
      "0.799187982725\n",
      "29.1626996248\n",
      "0.417463911716\n",
      "25.6610985025\n",
      "0.16510791633\n",
      "27.8550846176\n",
      "0.0551713319637\n",
      "26.4115791173\n",
      "0.00783400591875\n",
      "27.4961220208\n"
     ]
    },
    {
     "data": {
      "image/png": "[encoded data removed]",
      "text/plain": [
       "<matplotlib.figure.Figure at 0x1115c4d10>"
      ]
     },
     "metadata": {},
     "output_type": "display_data"
    }
   ],
   "source": [
    "model_complexity(X_train, y_train, X_test, y_test)"
   ]
  },
  {
   "cell_type": "markdown",
   "metadata": {},
   "source": [
    "## Question 9\n",
    "*From the model complexity graph above, describe the training and testing errors as the max depth increases. Based on your interpretation of the graph, which max depth results in a model that best generalizes the dataset? Why?*"
   ]
  },
  {
   "cell_type": "markdown",
   "metadata": {},
   "source": [
    "**Answer: **"
   ]
  },
  {
   "cell_type": "markdown",
   "metadata": {},
   "source": [
    "# Model Prediction\n",
    "In this final section of the project, you will make a prediction on the client's feature set using an optimized model from `fit_model`. When applying grid search along with cross-validation to optimize your model, it would typically be performed and validated on a training set and subsequently evaluated on a **dedicated test set**. In this project, the optimization below is performed on the *entire dataset* (as opposed to the training set you made above) due to the many outliers in the data. Using the entire dataset for training provides for a less volatile prediction at the expense of not testing your model's performance. \n",
    "\n",
    "*To answer the following questions, it is recommended that you run the code blocks several times and use the median or mean value of the results.*"
   ]
  },
  {
   "cell_type": "markdown",
   "metadata": {},
   "source": [
    "## Question 10\n",
    "*Using grid search on the entire dataset, what is the optimal `max_depth` parameter for your model? How does this result compare to your intial intuition?*  \n",
    "**Hint: ** Run the code block below to see the max depth produced by your optimized model."
   ]
  },
  {
   "cell_type": "code",
   "execution_count": null,
   "metadata": {
    "collapsed": false
   },
   "outputs": [],
   "source": [
    "print \"Final model has an optimal max_depth parameter of\", reg.get_params()['max_depth']"
   ]
  },
  {
   "cell_type": "markdown",
   "metadata": {},
   "source": [
    "**Answer: **"
   ]
  },
  {
   "cell_type": "markdown",
   "metadata": {},
   "source": [
    "## Question 11\n",
    "*With your parameter-tuned model, what is the best selling price for your client's home? How does this selling price compare to the basic statistics you calculated on the dataset?*  \n",
    "\n",
    "**Hint: ** Run the code block below to have your parameter-tuned model make a prediction on the client's home."
   ]
  },
  {
   "cell_type": "code",
   "execution_count": null,
   "metadata": {
    "collapsed": false
   },
   "outputs": [],
   "source": [
    "sale_price = reg.predict(CLIENT_FEATURES)\n",
    "print \"Predicted value of client's home: {0:.3f}\".format(sale_price[0])"
   ]
  },
  {
   "cell_type": "markdown",
   "metadata": {},
   "source": [
    "**Answer: **"
   ]
  },
  {
   "cell_type": "markdown",
   "metadata": {},
   "source": [
    "## Question 12 (Final Question):\n",
    "*In a few sentences, discuss whether you would use this model or not to predict the selling price of future clients' homes in the Greater Boston area.*"
   ]
  },
  {
   "cell_type": "markdown",
   "metadata": {},
   "source": [
    "**Answer: **"
   ]
  }
 ],
 "metadata": {
  "kernelspec": {
   "display_name": "Python 2",
   "language": "python",
   "name": "python2"
  },
  "language_info": {
   "codemirror_mode": {
    "name": "ipython",
    "version": 2
   },
   "file_extension": ".py",
   "mimetype": "text/x-python",
   "name": "python",
   "nbconvert_exporter": "python",
   "pygments_lexer": "ipython2",
   "version": "2.7.11"
  }
 },
 "nbformat": 4,
 "nbformat_minor": 0
}
